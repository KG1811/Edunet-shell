{
  "nbformat": 4,
  "nbformat_minor": 0,
  "metadata": {
    "colab": {
      "provenance": [],
      "authorship_tag": "ABX9TyOWdZhIhNeqmwc7bx4zFmR1",
      "include_colab_link": true
    },
    "kernelspec": {
      "name": "python3",
      "display_name": "Python 3"
    },
    "language_info": {
      "name": "python"
    }
  },
  "cells": [
    {
      "cell_type": "markdown",
      "metadata": {
        "id": "view-in-github",
        "colab_type": "text"
      },
      "source": [
        "<a href=\"https://colab.research.google.com/github/KG1811/Edunet-shell/blob/main/week_3.ipynb\" target=\"_parent\"><img src=\"https://colab.research.google.com/assets/colab-badge.svg\" alt=\"Open In Colab\"/></a>"
      ]
    },
    {
      "cell_type": "code",
      "execution_count": null,
      "metadata": {
        "id": "vSimCdF-7rs0"
      },
      "outputs": [],
      "source": [
        "import tensorflow as tf\n",
        "from tensorflow.keras import layers, models, regularizers\n",
        "from tensorflow.keras.applications import EfficientNetV2B0\n",
        "from tensorflow.keras.applications.efficientnet import preprocess_input\n",
        "from tensorflow.keras.preprocessing import image as keras_image\n",
        "from tensorflow.keras.models import Model\n",
        "from sklearn.metrics import classification_report, confusion_matrix\n",
        "import numpy as np\n",
        "import matplotlib.pyplot as plt\n",
        "import seaborn as sns\n",
        "import cv2\n",
        "import gradio as gr\n",
        "import os"
      ]
    },
    {
      "cell_type": "code",
      "source": [
        "tf.keras.mixed_precision.set_global_policy('mixed_float16')"
      ],
      "metadata": {
        "id": "ytYAxA8o8J6a"
      },
      "execution_count": null,
      "outputs": []
    },
    {
      "cell_type": "code",
      "source": [
        "from google.colab import files\n",
        "uploaded = files.upload()  # Choose your zip file, e.g., modified-dataset.zip\n"
      ],
      "metadata": {
        "colab": {
          "base_uri": "https://localhost:8080/",
          "height": 73
        },
        "id": "21WJyFsz9nG6",
        "outputId": "e8982b58-0f4e-4c7c-ef2b-30f2094e47d9"
      },
      "execution_count": null,
      "outputs": [
        {
          "output_type": "display_data",
          "data": {
            "text/plain": [
              "<IPython.core.display.HTML object>"
            ],
            "text/html": [
              "\n",
              "     <input type=\"file\" id=\"files-77e9bee3-5d2e-4b72-8656-63aa974c5428\" name=\"files[]\" multiple disabled\n",
              "        style=\"border:none\" />\n",
              "     <output id=\"result-77e9bee3-5d2e-4b72-8656-63aa974c5428\">\n",
              "      Upload widget is only available when the cell has been executed in the\n",
              "      current browser session. Please rerun this cell to enable.\n",
              "      </output>\n",
              "      <script>// Copyright 2017 Google LLC\n",
              "//\n",
              "// Licensed under the Apache License, Version 2.0 (the \"License\");\n",
              "// you may not use this file except in compliance with the License.\n",
              "// You may obtain a copy of the License at\n",
              "//\n",
              "//      http://www.apache.org/licenses/LICENSE-2.0\n",
              "//\n",
              "// Unless required by applicable law or agreed to in writing, software\n",
              "// distributed under the License is distributed on an \"AS IS\" BASIS,\n",
              "// WITHOUT WARRANTIES OR CONDITIONS OF ANY KIND, either express or implied.\n",
              "// See the License for the specific language governing permissions and\n",
              "// limitations under the License.\n",
              "\n",
              "/**\n",
              " * @fileoverview Helpers for google.colab Python module.\n",
              " */\n",
              "(function(scope) {\n",
              "function span(text, styleAttributes = {}) {\n",
              "  const element = document.createElement('span');\n",
              "  element.textContent = text;\n",
              "  for (const key of Object.keys(styleAttributes)) {\n",
              "    element.style[key] = styleAttributes[key];\n",
              "  }\n",
              "  return element;\n",
              "}\n",
              "\n",
              "// Max number of bytes which will be uploaded at a time.\n",
              "const MAX_PAYLOAD_SIZE = 100 * 1024;\n",
              "\n",
              "function _uploadFiles(inputId, outputId) {\n",
              "  const steps = uploadFilesStep(inputId, outputId);\n",
              "  const outputElement = document.getElementById(outputId);\n",
              "  // Cache steps on the outputElement to make it available for the next call\n",
              "  // to uploadFilesContinue from Python.\n",
              "  outputElement.steps = steps;\n",
              "\n",
              "  return _uploadFilesContinue(outputId);\n",
              "}\n",
              "\n",
              "// This is roughly an async generator (not supported in the browser yet),\n",
              "// where there are multiple asynchronous steps and the Python side is going\n",
              "// to poll for completion of each step.\n",
              "// This uses a Promise to block the python side on completion of each step,\n",
              "// then passes the result of the previous step as the input to the next step.\n",
              "function _uploadFilesContinue(outputId) {\n",
              "  const outputElement = document.getElementById(outputId);\n",
              "  const steps = outputElement.steps;\n",
              "\n",
              "  const next = steps.next(outputElement.lastPromiseValue);\n",
              "  return Promise.resolve(next.value.promise).then((value) => {\n",
              "    // Cache the last promise value to make it available to the next\n",
              "    // step of the generator.\n",
              "    outputElement.lastPromiseValue = value;\n",
              "    return next.value.response;\n",
              "  });\n",
              "}\n",
              "\n",
              "/**\n",
              " * Generator function which is called between each async step of the upload\n",
              " * process.\n",
              " * @param {string} inputId Element ID of the input file picker element.\n",
              " * @param {string} outputId Element ID of the output display.\n",
              " * @return {!Iterable<!Object>} Iterable of next steps.\n",
              " */\n",
              "function* uploadFilesStep(inputId, outputId) {\n",
              "  const inputElement = document.getElementById(inputId);\n",
              "  inputElement.disabled = false;\n",
              "\n",
              "  const outputElement = document.getElementById(outputId);\n",
              "  outputElement.innerHTML = '';\n",
              "\n",
              "  const pickedPromise = new Promise((resolve) => {\n",
              "    inputElement.addEventListener('change', (e) => {\n",
              "      resolve(e.target.files);\n",
              "    });\n",
              "  });\n",
              "\n",
              "  const cancel = document.createElement('button');\n",
              "  inputElement.parentElement.appendChild(cancel);\n",
              "  cancel.textContent = 'Cancel upload';\n",
              "  const cancelPromise = new Promise((resolve) => {\n",
              "    cancel.onclick = () => {\n",
              "      resolve(null);\n",
              "    };\n",
              "  });\n",
              "\n",
              "  // Wait for the user to pick the files.\n",
              "  const files = yield {\n",
              "    promise: Promise.race([pickedPromise, cancelPromise]),\n",
              "    response: {\n",
              "      action: 'starting',\n",
              "    }\n",
              "  };\n",
              "\n",
              "  cancel.remove();\n",
              "\n",
              "  // Disable the input element since further picks are not allowed.\n",
              "  inputElement.disabled = true;\n",
              "\n",
              "  if (!files) {\n",
              "    return {\n",
              "      response: {\n",
              "        action: 'complete',\n",
              "      }\n",
              "    };\n",
              "  }\n",
              "\n",
              "  for (const file of files) {\n",
              "    const li = document.createElement('li');\n",
              "    li.append(span(file.name, {fontWeight: 'bold'}));\n",
              "    li.append(span(\n",
              "        `(${file.type || 'n/a'}) - ${file.size} bytes, ` +\n",
              "        `last modified: ${\n",
              "            file.lastModifiedDate ? file.lastModifiedDate.toLocaleDateString() :\n",
              "                                    'n/a'} - `));\n",
              "    const percent = span('0% done');\n",
              "    li.appendChild(percent);\n",
              "\n",
              "    outputElement.appendChild(li);\n",
              "\n",
              "    const fileDataPromise = new Promise((resolve) => {\n",
              "      const reader = new FileReader();\n",
              "      reader.onload = (e) => {\n",
              "        resolve(e.target.result);\n",
              "      };\n",
              "      reader.readAsArrayBuffer(file);\n",
              "    });\n",
              "    // Wait for the data to be ready.\n",
              "    let fileData = yield {\n",
              "      promise: fileDataPromise,\n",
              "      response: {\n",
              "        action: 'continue',\n",
              "      }\n",
              "    };\n",
              "\n",
              "    // Use a chunked sending to avoid message size limits. See b/62115660.\n",
              "    let position = 0;\n",
              "    do {\n",
              "      const length = Math.min(fileData.byteLength - position, MAX_PAYLOAD_SIZE);\n",
              "      const chunk = new Uint8Array(fileData, position, length);\n",
              "      position += length;\n",
              "\n",
              "      const base64 = btoa(String.fromCharCode.apply(null, chunk));\n",
              "      yield {\n",
              "        response: {\n",
              "          action: 'append',\n",
              "          file: file.name,\n",
              "          data: base64,\n",
              "        },\n",
              "      };\n",
              "\n",
              "      let percentDone = fileData.byteLength === 0 ?\n",
              "          100 :\n",
              "          Math.round((position / fileData.byteLength) * 100);\n",
              "      percent.textContent = `${percentDone}% done`;\n",
              "\n",
              "    } while (position < fileData.byteLength);\n",
              "  }\n",
              "\n",
              "  // All done.\n",
              "  yield {\n",
              "    response: {\n",
              "      action: 'complete',\n",
              "    }\n",
              "  };\n",
              "}\n",
              "\n",
              "scope.google = scope.google || {};\n",
              "scope.google.colab = scope.google.colab || {};\n",
              "scope.google.colab._files = {\n",
              "  _uploadFiles,\n",
              "  _uploadFilesContinue,\n",
              "};\n",
              "})(self);\n",
              "</script> "
            ]
          },
          "metadata": {}
        },
        {
          "output_type": "stream",
          "name": "stdout",
          "text": [
            "Saving E-Waste classification dataset (1).zip to E-Waste classification dataset (1) (1).zip\n"
          ]
        }
      ]
    },
    {
      "cell_type": "code",
      "source": [
        "import zipfile\n",
        "import os\n",
        "\n",
        "zip_path = \"/content/E-Waste classification dataset (1) (1).zip\"  # or your uploaded file name\n",
        "extract_path = \"/content\"\n",
        "\n",
        "with zipfile.ZipFile(zip_path, 'r') as zip_ref:\n",
        "    zip_ref.extractall(extract_path)"
      ],
      "metadata": {
        "id": "VD4tos6c9nJK"
      },
      "execution_count": null,
      "outputs": []
    },
    {
      "cell_type": "code",
      "source": [
        "import os\n",
        "\n",
        "for root, dirs, files in os.walk(\"/content\"):\n",
        "    for name in dirs:\n",
        "        print(os.path.join(root, name))\n"
      ],
      "metadata": {
        "colab": {
          "base_uri": "https://localhost:8080/"
        },
        "id": "S5Qc_V5T9nLv",
        "outputId": "a98e42af-77e0-4b29-bfb3-3b1ad1b0bf72"
      },
      "execution_count": null,
      "outputs": [
        {
          "output_type": "stream",
          "name": "stdout",
          "text": [
            "/content/.config\n",
            "/content/modified-dataset\n",
            "/content/sample_data\n",
            "/content/.config/logs\n",
            "/content/.config/configurations\n",
            "/content/.config/logs/2025.07.01\n",
            "/content/modified-dataset/train\n",
            "/content/modified-dataset/val\n",
            "/content/modified-dataset/test\n",
            "/content/modified-dataset/train/Mobile\n",
            "/content/modified-dataset/train/Player\n",
            "/content/modified-dataset/train/Television\n",
            "/content/modified-dataset/train/Keyboard\n",
            "/content/modified-dataset/train/Microwave\n",
            "/content/modified-dataset/train/PCB\n",
            "/content/modified-dataset/train/Washing Machine\n",
            "/content/modified-dataset/train/Printer\n",
            "/content/modified-dataset/train/Mouse\n",
            "/content/modified-dataset/train/Battery\n",
            "/content/modified-dataset/val/Mobile\n",
            "/content/modified-dataset/val/Player\n",
            "/content/modified-dataset/val/Television\n",
            "/content/modified-dataset/val/Keyboard\n",
            "/content/modified-dataset/val/Microwave\n",
            "/content/modified-dataset/val/PCB\n",
            "/content/modified-dataset/val/Washing Machine\n",
            "/content/modified-dataset/val/Printer\n",
            "/content/modified-dataset/val/Mouse\n",
            "/content/modified-dataset/val/Battery\n",
            "/content/modified-dataset/test/Mobile\n",
            "/content/modified-dataset/test/Player\n",
            "/content/modified-dataset/test/Television\n",
            "/content/modified-dataset/test/Keyboard\n",
            "/content/modified-dataset/test/Microwave\n",
            "/content/modified-dataset/test/PCB\n",
            "/content/modified-dataset/test/Washing Machine\n",
            "/content/modified-dataset/test/Printer\n",
            "/content/modified-dataset/test/Mouse\n",
            "/content/modified-dataset/test/Battery\n"
          ]
        }
      ]
    },
    {
      "cell_type": "code",
      "source": [
        "testpath= '/content/modified-dataset/test'\n",
        "trainpath='/content/modified-dataset/train'\n",
        "validpath = '/content/modified-dataset/val'"
      ],
      "metadata": {
        "id": "Tqhk-ZmC9nOM"
      },
      "execution_count": null,
      "outputs": []
    },
    {
      "cell_type": "code",
      "source": [
        "BATCH_SIZE = 32\n",
        "IMG_SIZE = (128, 128)\n"
      ],
      "metadata": {
        "id": "lUUFE-yT9nQv"
      },
      "execution_count": null,
      "outputs": []
    },
    {
      "cell_type": "code",
      "metadata": {
        "colab": {
          "base_uri": "https://localhost:8080/"
        },
        "id": "4481d9bc",
        "outputId": "26f3bc3a-00f0-4e65-c6bd-b5abf7688d1c"
      },
      "source": [
        "import os\n",
        "\n",
        "# Get the list of class names from the training directory\n",
        "class_names = sorted(os.listdir(trainpath))\n",
        "num_classes = len(class_names)\n",
        "\n",
        "print(f\"Class names: {class_names}\")\n",
        "print(f\"Number of classes: {num_classes}\")"
      ],
      "execution_count": null,
      "outputs": [
        {
          "output_type": "stream",
          "name": "stdout",
          "text": [
            "Class names: ['Battery', 'Keyboard', 'Microwave', 'Mobile', 'Mouse', 'PCB', 'Player', 'Printer', 'Television', 'Washing Machine']\n",
            "Number of classes: 10\n"
          ]
        }
      ]
    },
    {
      "cell_type": "code",
      "source": [
        "base_model = EfficientNetV2B0(include_top=False, weights='imagenet', input_shape=(*IMG_SIZE, 3))\n",
        "base_model.trainable = True\n",
        "for layer in base_model.layers[:100]:\n",
        "    layer.trainable = False\n",
        "\n",
        "inputs = layers.Input(shape=(*IMG_SIZE, 3))\n",
        "x = layers.RandomFlip(\"horizontal\")(inputs)\n",
        "x = layers.RandomRotation(0.15)(x)\n",
        "x = layers.RandomZoom(0.2)(x)\n",
        "x = preprocess_input(x)\n",
        "x = base_model(x, training=False)\n",
        "x = layers.GlobalAveragePooling2D()(x)\n",
        "x = layers.BatchNormalization()(x)\n",
        "x = layers.Dropout(0.3)(x)\n",
        "x = layers.Dense(128, activation='swish', kernel_regularizer=regularizers.l2(1e-4))(x)\n",
        "x = layers.BatchNormalization()(x)\n",
        "x = layers.Dropout(0.2)(x)\n",
        "outputs = layers.Dense(num_classes, activation='softmax', dtype='float32')(x)\n",
        "\n",
        "model = models.Model(inputs, outputs)\n"
      ],
      "metadata": {
        "id": "ijwOlEyc9nUI"
      },
      "execution_count": null,
      "outputs": []
    },
    {
      "cell_type": "code",
      "source": [
        "lr_schedule = tf.keras.optimizers.schedules.CosineDecay(1e-3, decay_steps=1000)\n",
        "optimizer = tf.keras.optimizers.Adam(learning_rate=lr_schedule)\n",
        "\n",
        "model.compile(\n",
        "    optimizer=optimizer,\n",
        "    loss='sparse_categorical_crossentropy',\n",
        "    metrics=['accuracy']\n",
        ")"
      ],
      "metadata": {
        "id": "Jmst2XOf-UlB"
      },
      "execution_count": null,
      "outputs": []
    },
    {
      "cell_type": "code",
      "metadata": {
        "colab": {
          "base_uri": "https://localhost:8080/"
        },
        "id": "35d76726",
        "outputId": "9068a7d8-8cb2-40a5-8a2e-34400d884d05"
      },
      "source": [
        "train_ds = tf.keras.utils.image_dataset_from_directory(\n",
        "    trainpath,\n",
        "    labels='inferred',\n",
        "    label_mode='int',\n",
        "    image_size=IMG_SIZE,\n",
        "    interpolation='nearest',\n",
        "    batch_size=BATCH_SIZE,\n",
        "    shuffle=True\n",
        ")\n",
        "\n",
        "val_ds = tf.keras.utils.image_dataset_from_directory(\n",
        "    validpath,\n",
        "    labels='inferred',\n",
        "    label_mode='int',\n",
        "    image_size=IMG_SIZE,\n",
        "    interpolation='nearest',\n",
        "    batch_size=BATCH_SIZE,\n",
        "    shuffle=False\n",
        ")\n",
        "\n",
        "test_ds = tf.keras.utils.image_dataset_from_directory(\n",
        "    testpath,\n",
        "    labels='inferred',\n",
        "    label_mode='int',\n",
        "    image_size=IMG_SIZE,\n",
        "    interpolation='nearest',\n",
        "    batch_size=BATCH_SIZE,\n",
        "    shuffle=False\n",
        ")"
      ],
      "execution_count": null,
      "outputs": [
        {
          "output_type": "stream",
          "name": "stdout",
          "text": [
            "Found 2400 files belonging to 10 classes.\n",
            "Found 300 files belonging to 10 classes.\n",
            "Found 300 files belonging to 10 classes.\n"
          ]
        }
      ]
    },
    {
      "cell_type": "code",
      "source": [
        "early_stop = tf.keras.callbacks.EarlyStopping(patience=5, restore_best_weights=True)\n",
        "reduce_lr = tf.keras.callbacks.ReduceLROnPlateau(patience=2, factor=0.5, min_lr=1e-6)\n",
        "\n",
        "history = model.fit(\n",
        "    train_ds,\n",
        "    validation_data=val_ds,\n",
        "    epochs=10,\n",
        "    callbacks=[early_stop]\n",
        ")"
      ],
      "metadata": {
        "id": "S1wvlFB1-UyY"
      },
      "execution_count": null,
      "outputs": []
    },
    {
      "cell_type": "code",
      "source": [
        "loss, acc = model.evaluate(test_ds)\n",
        "print(f'Accuracy: {acc:.4f}, Loss: {loss:.4f}')"
      ],
      "metadata": {
        "id": "tePMIkqj-U1L",
        "colab": {
          "base_uri": "https://localhost:8080/"
        },
        "outputId": "49861243-443f-4b2d-adc2-0b4f4bd6ad96"
      },
      "execution_count": null,
      "outputs": [
        {
          "output_type": "stream",
          "name": "stdout",
          "text": [
            "\u001b[1m10/10\u001b[0m \u001b[32m━━━━━━━━━━━━━━━━━━━━\u001b[0m\u001b[37m\u001b[0m \u001b[1m29s\u001b[0m 3s/step - accuracy: 0.9648 - loss: 0.2223\n",
            "Accuracy: 0.9600, Loss: 0.1986\n"
          ]
        }
      ]
    },
    {
      "cell_type": "code",
      "source": [
        "y_true = np.concatenate([y.numpy() for x, y in test_ds])\n",
        "y_pred = np.argmax(model.predict(test_ds), axis=1)\n",
        "print(classification_report(y_true, y_pred, target_names=class_names))"
      ],
      "metadata": {
        "id": "uR5GY9u--U34",
        "colab": {
          "base_uri": "https://localhost:8080/"
        },
        "outputId": "09415159-615c-4f99-b3d0-c49039087028"
      },
      "execution_count": null,
      "outputs": [
        {
          "output_type": "stream",
          "name": "stdout",
          "text": [
            "\u001b[1m10/10\u001b[0m \u001b[32m━━━━━━━━━━━━━━━━━━━━\u001b[0m\u001b[37m\u001b[0m \u001b[1m28s\u001b[0m 2s/step\n",
            "                 precision    recall  f1-score   support\n",
            "\n",
            "        Battery       0.97      0.97      0.97        30\n",
            "       Keyboard       1.00      1.00      1.00        30\n",
            "      Microwave       0.93      0.93      0.93        30\n",
            "         Mobile       1.00      0.97      0.98        30\n",
            "          Mouse       0.97      0.97      0.97        30\n",
            "            PCB       0.94      0.97      0.95        30\n",
            "         Player       0.93      0.93      0.93        30\n",
            "        Printer       0.88      1.00      0.94        30\n",
            "     Television       1.00      0.87      0.93        30\n",
            "Washing Machine       1.00      1.00      1.00        30\n",
            "\n",
            "       accuracy                           0.96       300\n",
            "      macro avg       0.96      0.96      0.96       300\n",
            "   weighted avg       0.96      0.96      0.96       300\n",
            "\n"
          ]
        }
      ]
    },
    {
      "cell_type": "code",
      "source": [
        "cm = confusion_matrix(y_true, y_pred)\n",
        "plt.figure(figsize=(10,8))\n",
        "sns.heatmap(cm, annot=True, fmt='d', cmap='Blues', xticklabels=class_names, yticklabels=class_names)\n",
        "plt.title(\"Confusion Matrix\")\n",
        "plt.show()"
      ],
      "metadata": {
        "id": "HNKVunPd-U7f",
        "colab": {
          "base_uri": "https://localhost:8080/",
          "height": 806
        },
        "outputId": "e41dc13f-6279-4703-af1f-b98f1c3f36f0"
      },
      "execution_count": null,
      "outputs": [
        {
          "output_type": "display_data",
          "data": {
            "text/plain": [
              "<Figure size 1000x800 with 2 Axes>"
            ],
            "image/png": "[encoded data removed]"
          },
          "metadata": {}
        }
      ]
    },
    {
      "cell_type": "code",
      "source": [
        "model.save('EWaste_Production_Model.keras')"
      ],
      "metadata": {
        "id": "tbkcxpEE_p7m"
      },
      "execution_count": null,
      "outputs": []
    },
    {
      "cell_type": "code",
      "source": [
        "def get_last_conv_layer(model):\n",
        "    # Find the last conv layer automatically\n",
        "    for layer in reversed(model.layers):\n",
        "        if isinstance(layer, tf.keras.layers.Conv2D):\n",
        "            return layer.name\n",
        "    raise ValueError(\"No Conv2D layer found in model.\")\n",
        "\n",
        "def get_gradcam(img_array, model, layer_name=None):\n",
        "    if layer_name is None:\n",
        "        layer_name = get_last_conv_layer(model)\n",
        "    grad_model = Model([model.inputs], [model.get_layer(layer_name).output, model.output])\n",
        "    with tf.GradientTape() as tape:\n",
        "        conv_outputs, predictions = grad_model(img_array)\n",
        "        class_idx = tf.argmax(predictions[0])\n",
        "        loss = predictions[:, class_idx]\n",
        "    grads = tape.gradient(loss, conv_outputs)\n",
        "    pooled_grads = tf.reduce_mean(grads, axis=(0, 1, 2))\n",
        "    conv_outputs = conv_outputs[0]\n",
        "    heatmap = conv_outputs @ pooled_grads[..., tf.newaxis]\n",
        "    heatmap = tf.squeeze(heatmap)\n",
        "    heatmap = tf.maximum(heatmap, 0) / (tf.reduce_max(heatmap) + tf.keras.backend.epsilon())\n",
        "    heatmap = heatmap.numpy()\n",
        "    return heatmap\n"
      ],
      "metadata": {
        "id": "JvYlQWmh_qK3"
      },
      "execution_count": null,
      "outputs": []
    },
    {
      "cell_type": "code",
      "source": [
        "def classify_image(img):\n",
        "    # Ensure numpy uint8 RGB\n",
        "    if isinstance(img, np.ndarray):\n",
        "        img = img.astype(np.uint8)\n",
        "    else:\n",
        "        img = np.array(img).astype(np.uint8)\n",
        "    if img.shape[-1] == 4:\n",
        "        img = img[..., :3]\n",
        "\n",
        "    img_resized = cv2.resize(img, IMG_SIZE)\n",
        "    img_array = np.expand_dims(img_resized, axis=0)\n",
        "\n",
        "    preds = model.predict(img_array)\n",
        "    class_id = np.argmax(preds)\n",
        "    conf = float(preds[0][class_id])\n",
        "\n",
        "    # Grad-CAM safely\n",
        "    try:\n",
        "        heatmap = get_gradcam(img_array, model)\n",
        "        cam = overlay_heatmap(img_resized, heatmap)\n",
        "    except Exception as e:\n",
        "        print(\"Grad-CAM failed:\", e)\n",
        "        cam = img_resized  # fallback\n",
        "\n",
        "    return {class_names[i]: float(preds[0][i]) for i in range(num_classes)}, cam\n"
      ],
      "metadata": {
        "id": "ZMKdNXbz_qQY"
      },
      "execution_count": null,
      "outputs": []
    },
    {
      "cell_type": "code",
      "source": [
        "def classify_video(video):\n",
        "    cap = cv2.VideoCapture(video)\n",
        "    frame_skip = 30\n",
        "    results = []\n",
        "    while cap.isOpened():\n",
        "        ret, frame = cap.read()\n",
        "        if not ret: break\n",
        "        img_resized = cv2.resize(frame, IMG_SIZE)\n",
        "        preds = model.predict(np.expand_dims(img_resized, axis=0))\n",
        "        class_id = np.argmax(preds)\n",
        "        results.append(class_names[class_id])\n",
        "        for _ in range(frame_skip): cap.read()\n",
        "    cap.release()\n",
        "    if results:\n",
        "        prediction = max(set(results), key=results.count)\n",
        "    else:\n",
        "        prediction = \"No frames\"\n",
        "    return prediction\n",
        "\n",
        "gr.Interface(\n",
        "    fn=classify_image,\n",
        "    inputs=gr.Image(type=\"numpy\"),\n",
        "    outputs=[gr.Label(num_top_classes=3), gr.Image()],\n",
        "    title=\"E-Waste Image Classifier with Grad-CAM\"\n",
        ").launch()\n",
        "\n",
        "gr.Interface(\n",
        "    fn=classify_video,\n",
        "    inputs=gr.Video(),\n",
        "    outputs=\"text\",\n",
        "    title=\"E-Waste Video Classifier\"\n",
        ").launch()"
      ],
      "metadata": {
        "id": "_du8Oq_s_9Gi",
        "colab": {
          "base_uri": "https://localhost:8080/",
          "height": 1000
        },
        "outputId": "cc7793de-fe35-4ef1-b31d-da732a414e84"
      },
      "execution_count": null,
      "outputs": [
        {
          "output_type": "stream",
          "name": "stdout",
          "text": [
            "It looks like you are running Gradio on a hosted a Jupyter notebook. For the Gradio app to work, sharing must be enabled. Automatically setting `share=True` (you can turn this off by setting `share=False` in `launch()` explicitly).\n",
            "\n",
            "Colab notebook detected. To show errors in colab notebook, set debug=True in launch()\n",
            "* Running on public URL: https://daa6fa6b1df67680a5.gradio.live\n",
            "\n",
            "This share link expires in 1 week. For free permanent hosting and GPU upgrades, run `gradio deploy` from the terminal in the working directory to deploy to Hugging Face Spaces (https://huggingface.co/spaces)\n"
          ]
        },
        {
          "output_type": "display_data",
          "data": {
            "text/plain": [
              "<IPython.core.display.HTML object>"
            ],
            "text/html": [
              "<div><iframe src=\"https://daa6fa6b1df67680a5.gradio.live\" width=\"100%\" height=\"500\" allow=\"autoplay; camera; microphone; clipboard-read; clipboard-write;\" frameborder=\"0\" allowfullscreen></iframe></div>"
            ]
          },
          "metadata": {}
        },
        {
          "output_type": "stream",
          "name": "stdout",
          "text": [
            "It looks like you are running Gradio on a hosted a Jupyter notebook. For the Gradio app to work, sharing must be enabled. Automatically setting `share=True` (you can turn this off by setting `share=False` in `launch()` explicitly).\n",
            "\n",
            "Colab notebook detected. To show errors in colab notebook, set debug=True in launch()\n",
            "* Running on public URL: https://97f7fee6dfa3b3211d.gradio.live\n",
            "\n",
            "This share link expires in 1 week. For free permanent hosting and GPU upgrades, run `gradio deploy` from the terminal in the working directory to deploy to Hugging Face Spaces (https://huggingface.co/spaces)\n"
          ]
        },
        {
          "output_type": "display_data",
          "data": {
            "text/plain": [
              "<IPython.core.display.HTML object>"
            ],
            "text/html": [
              "<div><iframe src=\"https://97f7fee6dfa3b3211d.gradio.live\" width=\"100%\" height=\"500\" allow=\"autoplay; camera; microphone; clipboard-read; clipboard-write;\" frameborder=\"0\" allowfullscreen></iframe></div>"
            ]
          },
          "metadata": {}
        },
        {
          "output_type": "execute_result",
          "data": {
            "text/plain": []
          },
          "metadata": {},
          "execution_count": 42
        }
      ]
    }
  ]
}