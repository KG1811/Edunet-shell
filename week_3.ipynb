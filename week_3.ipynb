{
  "cells": [
    {
      "cell_type": "markdown",
      "metadata": {
        "id": "view-in-github",
        "colab_type": "text"
      },
      "source": [
        "<a href=\"https://colab.research.google.com/github/KG1811/Edunet-shell/blob/main/-week_3.ipynb\" target=\"_parent\"><img src=\"https://colab.research.google.com/assets/colab-badge.svg\" alt=\"Open In Colab\"/></a>"
      ]
    },
    {
      "cell_type": "code",
      "execution_count": 14,
      "metadata": {
        "id": "vSimCdF-7rs0"
      },
      "outputs": [],
      "source": [
        "import tensorflow as tf\n",
        "from tensorflow.keras import layers, models, regularizers\n",
        "from tensorflow.keras.applications import EfficientNetV2B0\n",
        "from tensorflow.keras.applications.efficientnet import preprocess_input\n",
        "from tensorflow.keras.preprocessing import image as keras_image\n",
        "from tensorflow.keras.models import Model\n",
        "from sklearn.metrics import classification_report, confusion_matrix\n",
        "import numpy as np\n",
        "import matplotlib.pyplot as plt\n",
        "import seaborn as sns\n",
        "import cv2\n",
        "import gradio as gr\n",
        "import os"
      ]
    },
    {
      "cell_type": "code",
      "execution_count": null,
      "metadata": {
        "id": "ytYAxA8o8J6a"
      },
      "outputs": [],
      "source": [
        "tf.keras.mixed_precision.set_global_policy('mixed_float16')"
      ]
    },
    {
      "cell_type": "code",
      "execution_count": null,
      "metadata": {
        "colab": {
          "base_uri": "https://localhost:8080/",
          "height": 73
        },
        "id": "21WJyFsz9nG6",
        "outputId": "f6058e1c-759e-4bd2-e4d3-ab7629abe839"
      },
      "outputs": [
        {
          "data": {
            "text/html": [
              "\n",
              "     <input type=\"file\" id=\"files-4f904de2-eff0-4fd6-9508-e24653dbd545\" name=\"files[]\" multiple disabled\n",
              "        style=\"border:none\" />\n",
              "     <output id=\"result-4f904de2-eff0-4fd6-9508-e24653dbd545\">\n",
              "      Upload widget is only available when the cell has been executed in the\n",
              "      current browser session. Please rerun this cell to enable.\n",
              "      </output>\n",
              "      <script>// Copyright 2017 Google LLC\n",
              "//\n",
              "// Licensed under the Apache License, Version 2.0 (the \"License\");\n",
              "// you may not use this file except in compliance with the License.\n",
              "// You may obtain a copy of the License at\n",
              "//\n",
              "//      http://www.apache.org/licenses/LICENSE-2.0\n",
              "//\n",
              "// Unless required by applicable law or agreed to in writing, software\n",
              "// distributed under the License is distributed on an \"AS IS\" BASIS,\n",
              "// WITHOUT WARRANTIES OR CONDITIONS OF ANY KIND, either express or implied.\n",
              "// See the License for the specific language governing permissions and\n",
              "// limitations under the License.\n",
              "\n",
              "/**\n",
              " * @fileoverview Helpers for google.colab Python module.\n",
              " */\n",
              "(function(scope) {\n",
              "function span(text, styleAttributes = {}) {\n",
              "  const element = document.createElement('span');\n",
              "  element.textContent = text;\n",
              "  for (const key of Object.keys(styleAttributes)) {\n",
              "    element.style[key] = styleAttributes[key];\n",
              "  }\n",
              "  return element;\n",
              "}\n",
              "\n",
              "// Max number of bytes which will be uploaded at a time.\n",
              "const MAX_PAYLOAD_SIZE = 100 * 1024;\n",
              "\n",
              "function _uploadFiles(inputId, outputId) {\n",
              "  const steps = uploadFilesStep(inputId, outputId);\n",
              "  const outputElement = document.getElementById(outputId);\n",
              "  // Cache steps on the outputElement to make it available for the next call\n",
              "  // to uploadFilesContinue from Python.\n",
              "  outputElement.steps = steps;\n",
              "\n",
              "  return _uploadFilesContinue(outputId);\n",
              "}\n",
              "\n",
              "// This is roughly an async generator (not supported in the browser yet),\n",
              "// where there are multiple asynchronous steps and the Python side is going\n",
              "// to poll for completion of each step.\n",
              "// This uses a Promise to block the python side on completion of each step,\n",
              "// then passes the result of the previous step as the input to the next step.\n",
              "function _uploadFilesContinue(outputId) {\n",
              "  const outputElement = document.getElementById(outputId);\n",
              "  const steps = outputElement.steps;\n",
              "\n",
              "  const next = steps.next(outputElement.lastPromiseValue);\n",
              "  return Promise.resolve(next.value.promise).then((value) => {\n",
              "    // Cache the last promise value to make it available to the next\n",
              "    // step of the generator.\n",
              "    outputElement.lastPromiseValue = value;\n",
              "    return next.value.response;\n",
              "  });\n",
              "}\n",
              "\n",
              "/**\n",
              " * Generator function which is called between each async step of the upload\n",
              " * process.\n",
              " * @param {string} inputId Element ID of the input file picker element.\n",
              " * @param {string} outputId Element ID of the output display.\n",
              " * @return {!Iterable<!Object>} Iterable of next steps.\n",
              " */\n",
              "function* uploadFilesStep(inputId, outputId) {\n",
              "  const inputElement = document.getElementById(inputId);\n",
              "  inputElement.disabled = false;\n",
              "\n",
              "  const outputElement = document.getElementById(outputId);\n",
              "  outputElement.innerHTML = '';\n",
              "\n",
              "  const pickedPromise = new Promise((resolve) => {\n",
              "    inputElement.addEventListener('change', (e) => {\n",
              "      resolve(e.target.files);\n",
              "    });\n",
              "  });\n",
              "\n",
              "  const cancel = document.createElement('button');\n",
              "  inputElement.parentElement.appendChild(cancel);\n",
              "  cancel.textContent = 'Cancel upload';\n",
              "  const cancelPromise = new Promise((resolve) => {\n",
              "    cancel.onclick = () => {\n",
              "      resolve(null);\n",
              "    };\n",
              "  });\n",
              "\n",
              "  // Wait for the user to pick the files.\n",
              "  const files = yield {\n",
              "    promise: Promise.race([pickedPromise, cancelPromise]),\n",
              "    response: {\n",
              "      action: 'starting',\n",
              "    }\n",
              "  };\n",
              "\n",
              "  cancel.remove();\n",
              "\n",
              "  // Disable the input element since further picks are not allowed.\n",
              "  inputElement.disabled = true;\n",
              "\n",
              "  if (!files) {\n",
              "    return {\n",
              "      response: {\n",
              "        action: 'complete',\n",
              "      }\n",
              "    };\n",
              "  }\n",
              "\n",
              "  for (const file of files) {\n",
              "    const li = document.createElement('li');\n",
              "    li.append(span(file.name, {fontWeight: 'bold'}));\n",
              "    li.append(span(\n",
              "        `(${file.type || 'n/a'}) - ${file.size} bytes, ` +\n",
              "        `last modified: ${\n",
              "            file.lastModifiedDate ? file.lastModifiedDate.toLocaleDateString() :\n",
              "                                    'n/a'} - `));\n",
              "    const percent = span('0% done');\n",
              "    li.appendChild(percent);\n",
              "\n",
              "    outputElement.appendChild(li);\n",
              "\n",
              "    const fileDataPromise = new Promise((resolve) => {\n",
              "      const reader = new FileReader();\n",
              "      reader.onload = (e) => {\n",
              "        resolve(e.target.result);\n",
              "      };\n",
              "      reader.readAsArrayBuffer(file);\n",
              "    });\n",
              "    // Wait for the data to be ready.\n",
              "    let fileData = yield {\n",
              "      promise: fileDataPromise,\n",
              "      response: {\n",
              "        action: 'continue',\n",
              "      }\n",
              "    };\n",
              "\n",
              "    // Use a chunked sending to avoid message size limits. See b/62115660.\n",
              "    let position = 0;\n",
              "    do {\n",
              "      const length = Math.min(fileData.byteLength - position, MAX_PAYLOAD_SIZE);\n",
              "      const chunk = new Uint8Array(fileData, position, length);\n",
              "      position += length;\n",
              "\n",
              "      const base64 = btoa(String.fromCharCode.apply(null, chunk));\n",
              "      yield {\n",
              "        response: {\n",
              "          action: 'append',\n",
              "          file: file.name,\n",
              "          data: base64,\n",
              "        },\n",
              "      };\n",
              "\n",
              "      let percentDone = fileData.byteLength === 0 ?\n",
              "          100 :\n",
              "          Math.round((position / fileData.byteLength) * 100);\n",
              "      percent.textContent = `${percentDone}% done`;\n",
              "\n",
              "    } while (position < fileData.byteLength);\n",
              "  }\n",
              "\n",
              "  // All done.\n",
              "  yield {\n",
              "    response: {\n",
              "      action: 'complete',\n",
              "    }\n",
              "  };\n",
              "}\n",
              "\n",
              "scope.google = scope.google || {};\n",
              "scope.google.colab = scope.google.colab || {};\n",
              "scope.google.colab._files = {\n",
              "  _uploadFiles,\n",
              "  _uploadFilesContinue,\n",
              "};\n",
              "})(self);\n",
              "</script> "
            ],
            "text/plain": [
              "<IPython.core.display.HTML object>"
            ]
          },
          "metadata": {},
          "output_type": "display_data"
        },
        {
          "name": "stdout",
          "output_type": "stream",
          "text": [
            "Saving E-Waste classification dataset (1).zip to E-Waste classification dataset (1) (2).zip\n"
          ]
        }
      ],
      "source": [
        "from google.colab import files\n",
        "uploaded = files.upload()  # Choose your zip file, e.g., modified-dataset.zip\n"
      ]
    },
    {
      "cell_type": "code",
      "execution_count": null,
      "metadata": {
        "id": "VD4tos6c9nJK"
      },
      "outputs": [],
      "source": [
        "import zipfile\n",
        "import os\n",
        "\n",
        "zip_path = \"/content/E-Waste classification dataset (1) (1).zip\"  # or your uploaded file name\n",
        "extract_path = \"/content\"\n",
        "\n",
        "with zipfile.ZipFile(zip_path, 'r') as zip_ref:\n",
        "    zip_ref.extractall(extract_path)"
      ]
    },
    {
      "cell_type": "code",
      "execution_count": null,
      "metadata": {
        "colab": {
          "base_uri": "https://localhost:8080/"
        },
        "id": "S5Qc_V5T9nLv",
        "outputId": "80eea2be-74a3-4a7c-97aa-6cf9db20d464"
      },
      "outputs": [
        {
          "name": "stdout",
          "output_type": "stream",
          "text": [
            "/content/.config\n",
            "/content/modified-dataset\n",
            "/content/sample_data\n",
            "/content/.config/logs\n",
            "/content/.config/configurations\n",
            "/content/.config/logs/2025.07.01\n",
            "/content/modified-dataset/train\n",
            "/content/modified-dataset/val\n",
            "/content/modified-dataset/test\n",
            "/content/modified-dataset/train/Mobile\n",
            "/content/modified-dataset/train/Player\n",
            "/content/modified-dataset/train/Television\n",
            "/content/modified-dataset/train/Keyboard\n",
            "/content/modified-dataset/train/Microwave\n",
            "/content/modified-dataset/train/PCB\n",
            "/content/modified-dataset/train/Washing Machine\n",
            "/content/modified-dataset/train/Printer\n",
            "/content/modified-dataset/train/Mouse\n",
            "/content/modified-dataset/train/Battery\n",
            "/content/modified-dataset/val/Mobile\n",
            "/content/modified-dataset/val/Player\n",
            "/content/modified-dataset/val/Television\n",
            "/content/modified-dataset/val/Keyboard\n",
            "/content/modified-dataset/val/Microwave\n",
            "/content/modified-dataset/val/PCB\n",
            "/content/modified-dataset/val/Washing Machine\n",
            "/content/modified-dataset/val/Printer\n",
            "/content/modified-dataset/val/Mouse\n",
            "/content/modified-dataset/val/Battery\n",
            "/content/modified-dataset/test/Mobile\n",
            "/content/modified-dataset/test/Player\n",
            "/content/modified-dataset/test/Television\n",
            "/content/modified-dataset/test/Keyboard\n",
            "/content/modified-dataset/test/Microwave\n",
            "/content/modified-dataset/test/PCB\n",
            "/content/modified-dataset/test/Washing Machine\n",
            "/content/modified-dataset/test/Printer\n",
            "/content/modified-dataset/test/Mouse\n",
            "/content/modified-dataset/test/Battery\n"
          ]
        }
      ],
      "source": [
        "import os\n",
        "\n",
        "for root, dirs, files in os.walk(\"/content\"):\n",
        "    for name in dirs:\n",
        "        print(os.path.join(root, name))\n"
      ]
    },
    {
      "cell_type": "code",
      "execution_count": null,
      "metadata": {
        "id": "Tqhk-ZmC9nOM"
      },
      "outputs": [],
      "source": [
        "testpath= '/content/modified-dataset/test'\n",
        "trainpath='/content/modified-dataset/train'\n",
        "validpath = '/content/modified-dataset/val'"
      ]
    },
    {
      "cell_type": "code",
      "execution_count": null,
      "metadata": {
        "id": "lUUFE-yT9nQv"
      },
      "outputs": [],
      "source": [
        "BATCH_SIZE = 32\n",
        "IMG_SIZE = (128, 128)\n"
      ]
    },
    {
      "cell_type": "code",
      "execution_count": null,
      "metadata": {
        "colab": {
          "base_uri": "https://localhost:8080/"
        },
        "id": "4481d9bc",
        "outputId": "8024e1b6-44ff-4f57-d605-da625a939ce9"
      },
      "outputs": [
        {
          "name": "stdout",
          "output_type": "stream",
          "text": [
            "Class names: ['Battery', 'Keyboard', 'Microwave', 'Mobile', 'Mouse', 'PCB', 'Player', 'Printer', 'Television', 'Washing Machine']\n",
            "Number of classes: 10\n"
          ]
        }
      ],
      "source": [
        "import os\n",
        "\n",
        "# Get the list of class names from the training directory\n",
        "class_names = sorted(os.listdir(trainpath))\n",
        "num_classes = len(class_names)\n",
        "\n",
        "print(f\"Class names: {class_names}\")\n",
        "print(f\"Number of classes: {num_classes}\")\n",
        "# The variable `datatrain` is not defined, using `train_ds` instead.\n",
        "# class_names = datatrain.class_names\n",
        "# print(class_names)\n",
        "# num_classes = len(class_names)\n",
        "\n",
        "# Additional simulated labels\n",
        "condition_labels = ['intact', 'damaged', 'burnt']\n",
        "recyclable_labels = ['recyclable', 'non-recyclable']"
      ]
    },
    {
      "cell_type": "code",
      "execution_count": null,
      "metadata": {
        "id": "ijwOlEyc9nUI"
      },
      "outputs": [],
      "source": [
        "base_model = EfficientNetV2B0(include_top=False, weights='imagenet', input_shape=(*IMG_SIZE, 3))\n",
        "base_model.trainable = True\n",
        "for layer in base_model.layers[:100]:\n",
        "    layer.trainable = False\n",
        "\n",
        "inputs = layers.Input(shape=(*IMG_SIZE, 3))\n",
        "x = layers.RandomFlip(\"horizontal\")(inputs)\n",
        "x = layers.RandomRotation(0.15)(x)\n",
        "x = layers.RandomZoom(0.2)(x)\n",
        "x = preprocess_input(x)\n",
        "x = base_model(x, training=False)\n",
        "x = layers.GlobalAveragePooling2D()(x)\n",
        "x = layers.BatchNormalization()(x)\n",
        "x = layers.Dropout(0.3)(x)\n",
        "x = layers.Dense(128, activation='swish', kernel_regularizer=regularizers.l2(1e-4))(x)\n",
        "x = layers.BatchNormalization()(x)\n",
        "x = layers.Dropout(0.2)(x)\n",
        "outputs = layers.Dense(num_classes, activation='softmax', dtype='float32')(x)\n",
        "\n",
        "model = models.Model(inputs, outputs)\n"
      ]
    },
    {
      "cell_type": "code",
      "execution_count": null,
      "metadata": {
        "id": "Jmst2XOf-UlB"
      },
      "outputs": [],
      "source": [
        "lr_schedule = tf.keras.optimizers.schedules.CosineDecay(1e-3, decay_steps=1000)\n",
        "optimizer = tf.keras.optimizers.Adam(learning_rate=lr_schedule)\n",
        "\n",
        "model.compile(\n",
        "    optimizer=optimizer,\n",
        "    loss='sparse_categorical_crossentropy',\n",
        "    metrics=['accuracy']\n",
        ")"
      ]
    },
    {
      "cell_type": "code",
      "execution_count": null,
      "metadata": {
        "colab": {
          "base_uri": "https://localhost:8080/"
        },
        "id": "35d76726",
        "outputId": "b01109b2-5a90-4ba4-ba79-ad2be833c9e1"
      },
      "outputs": [
        {
          "name": "stdout",
          "output_type": "stream",
          "text": [
            "Found 2400 files belonging to 10 classes.\n",
            "Found 300 files belonging to 10 classes.\n",
            "Found 300 files belonging to 10 classes.\n"
          ]
        }
      ],
      "source": [
        "train_ds = tf.keras.utils.image_dataset_from_directory(\n",
        "    trainpath,\n",
        "    labels='inferred',\n",
        "    label_mode='int',\n",
        "    image_size=IMG_SIZE,\n",
        "    interpolation='nearest',\n",
        "    batch_size=BATCH_SIZE,\n",
        "    shuffle=True\n",
        ")\n",
        "\n",
        "val_ds = tf.keras.utils.image_dataset_from_directory(\n",
        "    validpath,\n",
        "    labels='inferred',\n",
        "    label_mode='int',\n",
        "    image_size=IMG_SIZE,\n",
        "    interpolation='nearest',\n",
        "    batch_size=BATCH_SIZE,\n",
        "    shuffle=False\n",
        ")\n",
        "\n",
        "test_ds = tf.keras.utils.image_dataset_from_directory(\n",
        "    testpath,\n",
        "    labels='inferred',\n",
        "    label_mode='int',\n",
        "    image_size=IMG_SIZE,\n",
        "    interpolation='nearest',\n",
        "    batch_size=BATCH_SIZE,\n",
        "    shuffle=False\n",
        ")"
      ]
    },
    {
      "cell_type": "code",
      "execution_count": 13,
      "metadata": {
        "colab": {
          "base_uri": "https://localhost:8080/"
        },
        "id": "S1wvlFB1-UyY",
        "outputId": "edd8f2d1-6e72-429b-8de0-67a2e03d7049"
      },
      "outputs": [
        {
          "output_type": "stream",
          "name": "stdout",
          "text": [
            "Epoch 1/10\n",
            "\u001b[1m75/75\u001b[0m \u001b[32m━━━━━━━━━━━━━━━━━━━━\u001b[0m\u001b[37m\u001b[0m \u001b[1m1752s\u001b[0m 23s/step - accuracy: 0.5307 - loss: 1.5521 - val_accuracy: 0.8867 - val_loss: 0.4980\n",
            "Epoch 2/10\n",
            "\u001b[1m75/75\u001b[0m \u001b[32m━━━━━━━━━━━━━━━━━━━━\u001b[0m\u001b[37m\u001b[0m \u001b[1m1767s\u001b[0m 23s/step - accuracy: 0.8593 - loss: 0.4675 - val_accuracy: 0.9267 - val_loss: 0.2933\n",
            "Epoch 3/10\n",
            "\u001b[1m75/75\u001b[0m \u001b[32m━━━━━━━━━━━━━━━━━━━━\u001b[0m\u001b[37m\u001b[0m \u001b[1m1765s\u001b[0m 23s/step - accuracy: 0.8833 - loss: 0.4014 - val_accuracy: 0.9267 - val_loss: 0.2840\n",
            "Epoch 4/10\n",
            "\u001b[1m75/75\u001b[0m \u001b[32m━━━━━━━━━━━━━━━━━━━━\u001b[0m\u001b[37m\u001b[0m \u001b[1m1762s\u001b[0m 23s/step - accuracy: 0.9210 - loss: 0.2670 - val_accuracy: 0.9267 - val_loss: 0.2547\n",
            "Epoch 5/10\n",
            "\u001b[1m75/75\u001b[0m \u001b[32m━━━━━━━━━━━━━━━━━━━━\u001b[0m\u001b[37m\u001b[0m \u001b[1m1755s\u001b[0m 23s/step - accuracy: 0.9413 - loss: 0.1985 - val_accuracy: 0.9467 - val_loss: 0.1741\n",
            "Epoch 6/10\n",
            "\u001b[1m75/75\u001b[0m \u001b[32m━━━━━━━━━━━━━━━━━━━━\u001b[0m\u001b[37m\u001b[0m \u001b[1m1761s\u001b[0m 23s/step - accuracy: 0.9594 - loss: 0.1530 - val_accuracy: 0.9533 - val_loss: 0.1997\n",
            "Epoch 7/10\n",
            "\u001b[1m75/75\u001b[0m \u001b[32m━━━━━━━━━━━━━━━━━━━━\u001b[0m\u001b[37m\u001b[0m \u001b[1m1763s\u001b[0m 23s/step - accuracy: 0.9635 - loss: 0.1470 - val_accuracy: 0.9433 - val_loss: 0.2468\n",
            "Epoch 8/10\n",
            "\u001b[1m75/75\u001b[0m \u001b[32m━━━━━━━━━━━━━━━━━━━━\u001b[0m\u001b[37m\u001b[0m \u001b[1m1758s\u001b[0m 23s/step - accuracy: 0.9679 - loss: 0.1147 - val_accuracy: 0.9433 - val_loss: 0.2286\n",
            "Epoch 9/10\n",
            "\u001b[1m75/75\u001b[0m \u001b[32m━━━━━━━━━━━━━━━━━━━━\u001b[0m\u001b[37m\u001b[0m \u001b[1m1760s\u001b[0m 23s/step - accuracy: 0.9808 - loss: 0.0980 - val_accuracy: 0.9467 - val_loss: 0.2348\n",
            "Epoch 10/10\n",
            "\u001b[1m75/75\u001b[0m \u001b[32m━━━━━━━━━━━━━━━━━━━━\u001b[0m\u001b[37m\u001b[0m \u001b[1m1799s\u001b[0m 23s/step - accuracy: 0.9808 - loss: 0.0871 - val_accuracy: 0.9400 - val_loss: 0.2397\n"
          ]
        }
      ],
      "source": [
        "\n",
        "early_stop = tf.keras.callbacks.EarlyStopping(patience=5, restore_best_weights=True)\n",
        "reduce_lr = tf.keras.callbacks.ReduceLROnPlateau(patience=2, factor=0.5, min_lr=1e-6)\n",
        "\n",
        "history = model.fit(\n",
        "    train_ds,\n",
        "    validation_data=val_ds,\n",
        "    epochs=10,\n",
        "    callbacks=[early_stop]\n",
        ")"
      ]
    },
    {
      "cell_type": "code",
      "execution_count": 15,
      "metadata": {
        "colab": {
          "base_uri": "https://localhost:8080/"
        },
        "id": "tePMIkqj-U1L",
        "outputId": "73ad19b9-9964-49ae-aa29-7120abaee25a"
      },
      "outputs": [
        {
          "output_type": "stream",
          "name": "stdout",
          "text": [
            "\u001b[1m10/10\u001b[0m \u001b[32m━━━━━━━━━━━━━━━━━━━━\u001b[0m\u001b[37m\u001b[0m \u001b[1m12s\u001b[0m 1s/step - accuracy: 0.9076 - loss: 0.3631\n",
            "Accuracy: 0.9167, Loss: 0.2867\n"
          ]
        }
      ],
      "source": [
        "loss, acc = model.evaluate(test_ds)\n",
        "print(f'Accuracy: {acc:.4f}, Loss: {loss:.4f}')"
      ]
    },
    {
      "cell_type": "code",
      "execution_count": 16,
      "metadata": {
        "colab": {
          "base_uri": "https://localhost:8080/"
        },
        "id": "uR5GY9u--U34",
        "outputId": "7593789d-9a9e-4b81-d437-7b85c1d6a50c"
      },
      "outputs": [
        {
          "output_type": "stream",
          "name": "stdout",
          "text": [
            "\u001b[1m10/10\u001b[0m \u001b[32m━━━━━━━━━━━━━━━━━━━━\u001b[0m\u001b[37m\u001b[0m \u001b[1m18s\u001b[0m 2s/step\n",
            "                 precision    recall  f1-score   support\n",
            "\n",
            "        Battery       0.86      0.83      0.85        30\n",
            "       Keyboard       1.00      0.97      0.98        30\n",
            "      Microwave       0.93      0.87      0.90        30\n",
            "         Mobile       1.00      1.00      1.00        30\n",
            "          Mouse       1.00      0.90      0.95        30\n",
            "            PCB       0.94      0.97      0.95        30\n",
            "         Player       0.76      0.93      0.84        30\n",
            "        Printer       0.84      0.87      0.85        30\n",
            "     Television       0.90      0.87      0.88        30\n",
            "Washing Machine       1.00      0.97      0.98        30\n",
            "\n",
            "       accuracy                           0.92       300\n",
            "      macro avg       0.92      0.92      0.92       300\n",
            "   weighted avg       0.92      0.92      0.92       300\n",
            "\n"
          ]
        }
      ],
      "source": [
        "y_true = np.concatenate([y.numpy() for x, y in test_ds])\n",
        "y_pred = np.argmax(model.predict(test_ds), axis=1)\n",
        "print(classification_report(y_true, y_pred, target_names=class_names))"
      ]
    },
    {
      "cell_type": "code",
      "execution_count": 17,
      "metadata": {
        "colab": {
          "base_uri": "https://localhost:8080/",
          "height": 806
        },
        "id": "HNKVunPd-U7f",
        "outputId": "330fddf0-6a50-475f-b581-50b8a9a47f15"
      },
      "outputs": [
        {
          "output_type": "display_data",
          "data": {
            "text/plain": [
              "<Figure size 1000x800 with 2 Axes>"
            ],
            "image/png": "[encoded data removed]"
          },
          "metadata": {}
        }
      ],
      "source": [
        "cm = confusion_matrix(y_true, y_pred)\n",
        "plt.figure(figsize=(10,8))\n",
        "sns.heatmap(cm, annot=True, fmt='d', cmap='Blues', xticklabels=class_names, yticklabels=class_names)\n",
        "plt.title(\"Confusion Matrix\")\n",
        "plt.show()"
      ]
    },
    {
      "cell_type": "code",
      "source": [
        "from tensorflow.keras.models import load_model\n",
        "\n",
        "model = load_model('EWaste_Production_Model.keras')"
      ],
      "metadata": {
        "id": "l_hC-fZy-hlQ"
      },
      "execution_count": 36,
      "outputs": []
    },
    {
      "cell_type": "code",
      "execution_count": 18,
      "metadata": {
        "id": "tbkcxpEE_p7m"
      },
      "outputs": [],
      "source": [
        "model.save('EWaste_Production_Model.keras')"
      ]
    },
    {
      "cell_type": "code",
      "source": [
        "import cv2\n",
        "import numpy as np\n",
        "\n",
        "# Use a test image you have (e.g., 'test.jpg')\n",
        "img = cv2.imread('test.jpg')\n",
        "\n",
        "if img is None:\n",
        "    print(\"Error: Image not loaded. Please check the file path.\")\n",
        "else:\n",
        "    img_resized = cv2.resize(img, (128,128))\n",
        "    img_array = np.expand_dims(img_resized/255.0, axis=0)\n",
        "\n",
        "    try:\n",
        "        preds = model.predict(img_array)\n",
        "        print(\"Predictions:\", preds)\n",
        "    except Exception as e:\n",
        "        print(\"Prediction failed:\", e)"
      ],
      "metadata": {
        "colab": {
          "base_uri": "https://localhost:8080/"
        },
        "id": "KyJtixYY-058",
        "outputId": "67fd63e7-5ce5-47d3-a488-a1e91dd75e9d"
      },
      "execution_count": 38,
      "outputs": [
        {
          "output_type": "stream",
          "name": "stdout",
          "text": [
            "Error: Image not loaded. Please check the file path.\n"
          ]
        }
      ]
    },
    {
      "cell_type": "code",
      "execution_count": 42,
      "metadata": {
        "id": "JvYlQWmh_qK3"
      },
      "outputs": [],
      "source": [
        "def get_last_conv_layer(model):\n",
        "    # Find the last conv layer automatically\n",
        "    for layer in reversed(model.layers):\n",
        "        if isinstance(layer, tf.keras.layers.Conv2D):\n",
        "            return layer.name\n",
        "    raise ValueError(\"No Conv2D layer found in model.\")\n",
        "\n",
        "def get_gradcam(img_array, model, layer_name):\n",
        "    grad_model = tf.keras.models.Model([model.inputs], [model.get_layer(layer_name).output, model.output])\n",
        "    with tf.GradientTape() as tape:\n",
        "        conv_outputs, predictions = grad_model(img_array)\n",
        "        pred_index = tf.argmax(predictions[0])\n",
        "        loss = predictions[:, pred_index]\n",
        "    grads = tape.gradient(loss, conv_outputs)\n",
        "    pooled_grads = tf.reduce_mean(grads, axis=(0,1,2))\n",
        "    conv_outputs = conv_outputs[0]\n",
        "    heatmap = conv_outputs @ pooled_grads[..., tf.newaxis]\n",
        "    heatmap = tf.squeeze(heatmap)\n",
        "    heatmap = np.maximum(heatmap, 0) / tf.math.reduce_max(heatmap)\n",
        "    heatmap = cv2.resize(heatmap.numpy(), IMG_SIZE)\n",
        "    return heatmap\n",
        "\n",
        "def overlay_heatmap(img, heatmap, alpha=0.4):\n",
        "    heatmap_colored = cv2.applyColorMap(np.uint8(255*heatmap), cv2.COLORMAP_JET)\n",
        "    overlayed = cv2.addWeighted(img, 1-alpha, heatmap_colored, alpha, 0)\n",
        "    return overlayed"
      ]
    },
    {
      "cell_type": "code",
      "execution_count": 51,
      "metadata": {
        "id": "ZMKdNXbz_qQY",
        "colab": {
          "base_uri": "https://localhost:8080/"
        },
        "outputId": "1b31fa9c-4d34-401f-d78d-f5eb9c8e274e"
      },
      "outputs": [
        {
          "output_type": "stream",
          "name": "stdout",
          "text": [
            "Error: Image not loaded. Please check the file path.\n"
          ]
        }
      ],
      "source": [
        "import cv2\n",
        "import numpy as np\n",
        "\n",
        "img = cv2.imread('test.jpg')  # koi bhi test image ka path do\n",
        "\n",
        "if img is None:\n",
        "    print(\"Error: Image not loaded. Please check the file path.\")\n",
        "else:\n",
        "    img_resized = cv2.resize(img, (128,128))\n",
        "    img_array = np.expand_dims(img_resized/255.0, axis=0)\n",
        "\n",
        "    try:\n",
        "        preds = model.predict(img_array)\n",
        "        print(\"Predictions:\", preds)\n",
        "    except Exception as e:\n",
        "        print(\"Prediction failed:\", e)"
      ]
    },
    {
      "cell_type": "code",
      "execution_count": 52,
      "metadata": {
        "id": "aDrT-sstAW7m"
      },
      "outputs": [],
      "source": [
        "def classify_image(img):\n",
        "    try:\n",
        "        if img is None:\n",
        "            return {\"Error\": \"No image uploaded\"}, np.zeros((128,128,3), dtype=np.uint8)\n",
        "\n",
        "        img_resized = cv2.resize(img, IMG_SIZE)\n",
        "        img_array = np.expand_dims(img_resized, axis=0) / 255.0\n",
        "\n",
        "        preds = model.predict(img_array)\n",
        "        class_id = np.argmax(preds)\n",
        "        conf = preds[0][class_id]\n",
        "\n",
        "        # Get last conv layer safely\n",
        "        last_conv = None\n",
        "        for layer in reversed(model.layers):\n",
        "            if isinstance(layer, tf.keras.layers.Conv2D):\n",
        "                last_conv = layer.name\n",
        "                break\n",
        "        if last_conv is None:\n",
        "            raise ValueError(\"No Conv2D layer found for Grad-CAM\")\n",
        "\n",
        "        heatmap = get_gradcam(img_array, model, last_conv)\n",
        "        cam = overlay_heatmap(img_resized, heatmap)\n",
        "\n",
        "        # This part was missing in the original code block.\n",
        "        # Returning the results and the image with overlay.\n",
        "        output_image = cam.copy()\n",
        "        for _ in range(np.random.randint(1,4)):\n",
        "            h, w, _ = output_image.shape\n",
        "            x1, y1 = np.random.randint(0,w//2), np.random.randint(0,h//2)\n",
        "            x2, y2 = np.random.randint(w//2,w-1), np.random.randint(h//2,h-1)\n",
        "            color = [int(c) for c in np.random.randint(0,255, size=3)]\n",
        "            cond = np.random.choice(condition_labels)\n",
        "            rec = np.random.choice(recyclable_labels)\n",
        "            label = f\"{class_names[class_id]} | {cond} | {rec}\"\n",
        "            cv2.rectangle(output_image, (x1,y1), (x2,y2), color, 2)\n",
        "            cv2.putText(output_image, label, (x1, max(y1-10,10)), cv2.FONT_HERSHEY_SIMPLEX, 0.5, color, 2)\n",
        "\n",
        "        # Return top-3 classes\n",
        "        top3 = {class_names[i]: float(preds[0][i]) for i in np.argsort(preds[0])[-3:][::-1]}\n",
        "        return top3, output_image\n",
        "\n",
        "\n",
        "    except Exception as e:\n",
        "        print(\"Error inside classify_image:\", e)\n",
        "        # Added import traceback for printing traceback\n",
        "        import traceback\n",
        "        traceback.print_exc()\n",
        "        return {\"Error\": str(e)}, np.zeros((128,128,3), dtype=np.uint8)"
      ]
    },
    {
      "cell_type": "code",
      "source": [
        "# ----- Gradio interface -----\n",
        "iface = gr.Interface(\n",
        "    fn=classify_image,\n",
        "    inputs=[gr.Image(type=\"numpy\")],\n",
        "    outputs=[\n",
        "        gr.Label(num_top_classes=3, label=\"Predictions\"),\n",
        "        gr.Image(type=\"numpy\", label=\"Detection + Grad-CAM Overlay\")\n",
        "    ],\n",
        "    title=\"E-Waste Image Classifier with Grad-CAM\"\n",
        ")\n",
        "\n",
        "iface.launch(share=True)"
      ],
      "metadata": {
        "colab": {
          "base_uri": "https://localhost:8080/",
          "height": 611
        },
        "id": "PAdU6GEb8-51",
        "outputId": "cd7755bf-e857-4b26-ea1e-ab7e00c106d4"
      },
      "execution_count": 53,
      "outputs": [
        {
          "output_type": "stream",
          "name": "stdout",
          "text": [
            "Colab notebook detected. To show errors in colab notebook, set debug=True in launch()\n",
            "* Running on public URL: https://3550a93ffa28d61a5d.gradio.live\n",
            "\n",
            "This share link expires in 1 week. For free permanent hosting and GPU upgrades, run `gradio deploy` from the terminal in the working directory to deploy to Hugging Face Spaces (https://huggingface.co/spaces)\n"
          ]
        },
        {
          "output_type": "display_data",
          "data": {
            "text/plain": [
              "<IPython.core.display.HTML object>"
            ],
            "text/html": [
              "<div><iframe src=\"https://3550a93ffa28d61a5d.gradio.live\" width=\"100%\" height=\"500\" allow=\"autoplay; camera; microphone; clipboard-read; clipboard-write;\" frameborder=\"0\" allowfullscreen></iframe></div>"
            ]
          },
          "metadata": {}
        },
        {
          "output_type": "execute_result",
          "data": {
            "text/plain": []
          },
          "metadata": {},
          "execution_count": 53
        }
      ]
    },
    {
      "cell_type": "code",
      "execution_count": 23,
      "metadata": {
        "colab": {
          "base_uri": "https://localhost:8080/",
          "height": 1000
        },
        "id": "_du8Oq_s_9Gi",
        "outputId": "039641a8-c1de-4410-cd9a-6c8c70fa0bc5"
      },
      "outputs": [
        {
          "output_type": "stream",
          "name": "stdout",
          "text": [
            "It looks like you are running Gradio on a hosted a Jupyter notebook. For the Gradio app to work, sharing must be enabled. Automatically setting `share=True` (you can turn this off by setting `share=False` in `launch()` explicitly).\n",
            "\n",
            "Colab notebook detected. To show errors in colab notebook, set debug=True in launch()\n",
            "* Running on public URL: https://2a1a11480b33f5b727.gradio.live\n",
            "\n",
            "This share link expires in 1 week. For free permanent hosting and GPU upgrades, run `gradio deploy` from the terminal in the working directory to deploy to Hugging Face Spaces (https://huggingface.co/spaces)\n"
          ]
        },
        {
          "output_type": "display_data",
          "data": {
            "text/plain": [
              "<IPython.core.display.HTML object>"
            ],
            "text/html": [
              "<div><iframe src=\"https://2a1a11480b33f5b727.gradio.live\" width=\"100%\" height=\"500\" allow=\"autoplay; camera; microphone; clipboard-read; clipboard-write;\" frameborder=\"0\" allowfullscreen></iframe></div>"
            ]
          },
          "metadata": {}
        },
        {
          "output_type": "stream",
          "name": "stdout",
          "text": [
            "It looks like you are running Gradio on a hosted a Jupyter notebook. For the Gradio app to work, sharing must be enabled. Automatically setting `share=True` (you can turn this off by setting `share=False` in `launch()` explicitly).\n",
            "\n",
            "Colab notebook detected. To show errors in colab notebook, set debug=True in launch()\n",
            "* Running on public URL: https://3abfbcba5ae1f4b5eb.gradio.live\n",
            "\n",
            "This share link expires in 1 week. For free permanent hosting and GPU upgrades, run `gradio deploy` from the terminal in the working directory to deploy to Hugging Face Spaces (https://huggingface.co/spaces)\n"
          ]
        },
        {
          "output_type": "display_data",
          "data": {
            "text/plain": [
              "<IPython.core.display.HTML object>"
            ],
            "text/html": [
              "<div><iframe src=\"https://3abfbcba5ae1f4b5eb.gradio.live\" width=\"100%\" height=\"500\" allow=\"autoplay; camera; microphone; clipboard-read; clipboard-write;\" frameborder=\"0\" allowfullscreen></iframe></div>"
            ]
          },
          "metadata": {}
        },
        {
          "output_type": "execute_result",
          "data": {
            "text/plain": []
          },
          "metadata": {},
          "execution_count": 23
        }
      ],
      "source": [
        "def classify_video(video):\n",
        "    cap = cv2.VideoCapture(video)\n",
        "    frame_skip = 30\n",
        "    results = []\n",
        "    while cap.isOpened():\n",
        "        ret, frame = cap.read()\n",
        "        if not ret: break\n",
        "        img_resized = cv2.resize(frame, IMG_SIZE)\n",
        "        preds = model.predict(np.expand_dims(img_resized, axis=0))\n",
        "        class_id = np.argmax(preds)\n",
        "        results.append(class_names[class_id])\n",
        "        for _ in range(frame_skip): cap.read()\n",
        "    cap.release()\n",
        "    if results:\n",
        "        prediction = max(set(results), key=results.count)\n",
        "    else:\n",
        "        prediction = \"No frames\"\n",
        "    return prediction\n",
        "\n",
        "gr.Interface(\n",
        "    fn=classify_image,\n",
        "    inputs=gr.Image(type=\"numpy\"),\n",
        "    outputs=[gr.Label(num_top_classes=3), gr.Image()],\n",
        "    title=\"E-Waste Image Classifier with Grad-CAM\"\n",
        ").launch()\n",
        "\n",
        "gr.Interface(\n",
        "    fn=classify_video,\n",
        "    inputs=gr.Video(),\n",
        "    outputs=\"text\",\n",
        "    title=\"E-Waste Video Classifier\"\n",
        ").launch()"
      ]
    }
  ],
  "metadata": {
    "colab": {
      "provenance": [],
      "authorship_tag": "ABX9TyOQxH6GHVRShCPHV/N7oIAt",
      "include_colab_link": true
    },
    "kernelspec": {
      "display_name": "Python 3",
      "name": "python3"
    },
    "language_info": {
      "name": "python"
    }
  },
  "nbformat": 4,
  "nbformat_minor": 0
}
